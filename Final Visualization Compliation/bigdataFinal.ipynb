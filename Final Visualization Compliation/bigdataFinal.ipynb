{
  "nbformat": 4,
  "nbformat_minor": 0,
  "metadata": {
    "colab": {
      "provenance": []
    },
    "kernelspec": {
      "name": "python3",
      "display_name": "Python 3"
    },
    "language_info": {
      "name": "python"
    }
  },
  "cells": [
    {
      "cell_type": "code",
      "execution_count": 2,
      "metadata": {
        "colab": {
          "base_uri": "https://localhost:8080/"
        },
        "id": "Ts8jYs-dq0_l",
        "outputId": "71329865-a81a-4d8c-f105-345c9cbc1c88"
      },
      "outputs": [
        {
          "output_type": "stream",
          "name": "stdout",
          "text": [
            "Collecting pyspark\n",
            "  Downloading pyspark-3.5.2.tar.gz (317.3 MB)\n",
            "\u001b[2K     \u001b[90m━━━━━━━━━━━━━━━━━━━━━━━━━━━━━━━━━━━━━━━━\u001b[0m \u001b[32m317.3/317.3 MB\u001b[0m \u001b[31m4.9 MB/s\u001b[0m eta \u001b[36m0:00:00\u001b[0m\n",
            "\u001b[?25h  Preparing metadata (setup.py) ... \u001b[?25l\u001b[?25hdone\n",
            "Requirement already satisfied: py4j==0.10.9.7 in /usr/local/lib/python3.10/dist-packages (from pyspark) (0.10.9.7)\n",
            "Building wheels for collected packages: pyspark\n",
            "  Building wheel for pyspark (setup.py) ... \u001b[?25l\u001b[?25hdone\n",
            "  Created wheel for pyspark: filename=pyspark-3.5.2-py2.py3-none-any.whl size=317812365 sha256=d0cd50119ad30271d188fada4b9b1e3ab33284a93f3baf3126721271f92471d9\n",
            "  Stored in directory: /root/.cache/pip/wheels/34/34/bd/03944534c44b677cd5859f248090daa9fb27b3c8f8e5f49574\n",
            "Successfully built pyspark\n",
            "Installing collected packages: pyspark\n",
            "Successfully installed pyspark-3.5.2\n"
          ]
        }
      ],
      "source": [
        "pip install pyspark"
      ]
    },
    {
      "cell_type": "code",
      "source": [
        "from pyspark.sql import SparkSession\n",
        "\n",
        "# Create a SparkSession\n",
        "spark = SparkSession.builder.appName(\"BigDataAnalysis\").getOrCreate()\n"
      ],
      "metadata": {
        "id": "bwvIsI9Pq63n"
      },
      "execution_count": 3,
      "outputs": []
    },
    {
      "cell_type": "code",
      "source": [
        "spark_df = spark.read.csv('/content/drive/MyDrive/tsmdata/globaltsmdata.csv', header=True, inferSchema=True)\n"
      ],
      "metadata": {
        "id": "xKwHBJj2rWTb"
      },
      "execution_count": 4,
      "outputs": []
    },
    {
      "cell_type": "code",
      "source": [
        "# Show the first few rows\n",
        "spark_df.show(5)\n",
        "\n",
        "# Display schema\n",
        "spark_df.printSchema()\n"
      ],
      "metadata": {
        "colab": {
          "base_uri": "https://localhost:8080/"
        },
        "id": "Bug3YZUvrasa",
        "outputId": "e0142c6d-aa31-45dc-cf7c-00a2d2e31ef6"
      },
      "execution_count": 5,
      "outputs": [
        {
          "output_type": "stream",
          "name": "stdout",
          "text": [
            "+------------+-----+------+----+----------+--------+----------+-------+------------------+------+--------------------+---------+-------------+---------+----------+-----------+--------+--------+-------+-----+-----+-----+---------+-----------+---------------+--------+-------+-------+-----------+--------------------+-----------+---------------+-----------+---------------+---------+--------------------+------------+--------------------+--------------------+--------------------+-------+------------------+---------+-------------+------------+----------------+-----+-------+-------+-----------+---------+-------------+------------+----------------+-----+-------+-------+-----------+--------------------+--------+------+---------+------+---------+------+-----------+-----------+-----------+----------+------+--------+-------+---------+-------------+------+----------+--------------+------+----------+--------------+---------+---------+-------------+------------+--------------------+---------+-------------+------------+----------------+---------+-------------+------------+----------------+---------+-------------+------------+----------------+----------+-----+-------+--------+------+--------+--------+--------+----------+--------------+---------+-----------+---------+--------+----------+------+-----+------+-------------+------+---------+-----------+----------+------------+----------+--------------+------------------+---------+--------+------+------+------+--------+-------+--------+--------+-------+-------+\n",
            "|     eventid|iyear|imonth|iday|approxdate|extended|resolution|country|       country_txt|region|          region_txt|provstate|         city| latitude| longitude|specificity|vicinity|location|summary|crit1|crit2|crit3|doubtterr|alternative|alternative_txt|multiple|success|suicide|attacktype1|     attacktype1_txt|attacktype2|attacktype2_txt|attacktype3|attacktype3_txt|targtype1|       targtype1_txt|targsubtype1|    targsubtype1_txt|               corp1|             target1|natlty1|       natlty1_txt|targtype2|targtype2_txt|targsubtype2|targsubtype2_txt|corp2|target2|natlty2|natlty2_txt|targtype3|targtype3_txt|targsubtype3|targsubtype3_txt|corp3|target3|natlty3|natlty3_txt|               gname|gsubname|gname2|gsubname2|gname3|gsubname3|motive|guncertain1|guncertain2|guncertain3|individual|nperps|nperpcap|claimed|claimmode|claimmode_txt|claim2|claimmode2|claimmode2_txt|claim3|claimmode3|claimmode3_txt|compclaim|weaptype1|weaptype1_txt|weapsubtype1|    weapsubtype1_txt|weaptype2|weaptype2_txt|weapsubtype2|weapsubtype2_txt|weaptype3|weaptype3_txt|weapsubtype3|weapsubtype3_txt|weaptype4|weaptype4_txt|weapsubtype4|weapsubtype4_txt|weapdetail|nkill|nkillus|nkillter|nwound|nwoundus|nwoundte|property|propextent|propextent_txt|propvalue|propcomment|ishostkid|nhostkid|nhostkidus|nhours|ndays|divert|kidhijcountry|ransom|ransomamt|ransomamtus|ransompaid|ransompaidus|ransomnote|hostkidoutcome|hostkidoutcome_txt|nreleased|addnotes|scite1|scite2|scite3|dbsource|INT_LOG|INT_IDEO|INT_MISC|INT_ANY|related|\n",
            "+------------+-----+------+----+----------+--------+----------+-------+------------------+------+--------------------+---------+-------------+---------+----------+-----------+--------+--------+-------+-----+-----+-----+---------+-----------+---------------+--------+-------+-------+-----------+--------------------+-----------+---------------+-----------+---------------+---------+--------------------+------------+--------------------+--------------------+--------------------+-------+------------------+---------+-------------+------------+----------------+-----+-------+-------+-----------+---------+-------------+------------+----------------+-----+-------+-------+-----------+--------------------+--------+------+---------+------+---------+------+-----------+-----------+-----------+----------+------+--------+-------+---------+-------------+------+----------+--------------+------+----------+--------------+---------+---------+-------------+------------+--------------------+---------+-------------+------------+----------------+---------+-------------+------------+----------------+---------+-------------+------------+----------------+----------+-----+-------+--------+------+--------+--------+--------+----------+--------------+---------+-----------+---------+--------+----------+------+-----+------+-------------+------+---------+-----------+----------+------------+----------+--------------+------------------+---------+--------+------+------+------+--------+-------+--------+--------+-------+-------+\n",
            "|197000000001| 1970|     7|   2|      NULL|       0|      NULL|     58|Dominican Republic|     2|Central America &...|     NULL|Santo Domingo|18.456792|-69.951164|          1|       0|    NULL|   NULL|    1|    1|    1|        0|       NULL|           NULL|       0|      1|      0|          1|       Assassination|       NULL|           NULL|       NULL|           NULL|       14|Private Citizens ...|          68|      Named Civilian|                NULL|        Julio Guzman|     58|Dominican Republic|     NULL|         NULL|        NULL|            NULL| NULL|   NULL|   NULL|       NULL|     NULL|         NULL|        NULL|            NULL| NULL|   NULL|   NULL|       NULL|              MANO-D|    NULL|  NULL|     NULL|  NULL|     NULL|  NULL|          0|       NULL|       NULL|         0|  NULL|    NULL|   NULL|     NULL|         NULL|  NULL|      NULL|          NULL|  NULL|      NULL|          NULL|     NULL|       13|      Unknown|        NULL|                NULL|     NULL|         NULL|        NULL|            NULL|     NULL|         NULL|        NULL|            NULL|     NULL|         NULL|        NULL|            NULL|      NULL|    1|   NULL|    NULL|     0|    NULL|    NULL|       0|      NULL|          NULL|     NULL|       NULL|        0|    NULL|      NULL|  NULL| NULL|  NULL|         NULL|     0|     NULL|       NULL|      NULL|        NULL|      NULL|          NULL|              NULL|     NULL|    NULL|  NULL|  NULL|  NULL|    PGIS|      0|       0|       0|      0|   NULL|\n",
            "|197000000002| 1970|     0|   0|      NULL|       0|      NULL|    130|            Mexico|     1|       North America|  Federal|  Mexico city|19.371887|-99.086624|          1|       0|    NULL|   NULL|    1|    1|    1|        0|       NULL|           NULL|       0|      1|      0|          6|Hostage Taking (K...|       NULL|           NULL|       NULL|           NULL|        7|Government (Diplo...|          45|Diplomatic Person...|Belgian Ambassado...|Nadine Chaval, da...|     21|           Belgium|     NULL|         NULL|        NULL|            NULL| NULL|   NULL|   NULL|       NULL|     NULL|         NULL|        NULL|            NULL| NULL|   NULL|   NULL|       NULL|23rd of September...|    NULL|  NULL|     NULL|  NULL|     NULL|  NULL|          0|       NULL|       NULL|         0|     7|    NULL|   NULL|     NULL|         NULL|  NULL|      NULL|          NULL|  NULL|      NULL|          NULL|     NULL|       13|      Unknown|        NULL|                NULL|     NULL|         NULL|        NULL|            NULL|     NULL|         NULL|        NULL|            NULL|     NULL|         NULL|        NULL|            NULL|      NULL|    0|   NULL|    NULL|     0|    NULL|    NULL|       0|      NULL|          NULL|     NULL|       NULL|        1|       1|         0|  NULL| NULL|  NULL|       Mexico|     1|   800000|       NULL|      NULL|        NULL|      NULL|          NULL|              NULL|     NULL|    NULL|  NULL|  NULL|  NULL|    PGIS|      0|       1|       1|      1|   NULL|\n",
            "|197001000001| 1970|     1|   0|      NULL|       0|      NULL|    160|       Philippines|     5|      Southeast Asia|   Tarlac|      Unknown|15.478598|120.599741|          4|       0|    NULL|   NULL|    1|    1|    1|        0|       NULL|           NULL|       0|      1|      0|          1|       Assassination|       NULL|           NULL|       NULL|           NULL|       10| Journalists & Media|          54|Radio Journalist/...|    Voice of America|            Employee|    217|     United States|     NULL|         NULL|        NULL|            NULL| NULL|   NULL|   NULL|       NULL|     NULL|         NULL|        NULL|            NULL| NULL|   NULL|   NULL|       NULL|             Unknown|    NULL|  NULL|     NULL|  NULL|     NULL|  NULL|          0|       NULL|       NULL|         0|  NULL|    NULL|   NULL|     NULL|         NULL|  NULL|      NULL|          NULL|  NULL|      NULL|          NULL|     NULL|       13|      Unknown|        NULL|                NULL|     NULL|         NULL|        NULL|            NULL|     NULL|         NULL|        NULL|            NULL|     NULL|         NULL|        NULL|            NULL|      NULL|    1|   NULL|    NULL|     0|    NULL|    NULL|       0|      NULL|          NULL|     NULL|       NULL|        0|    NULL|      NULL|  NULL| NULL|  NULL|         NULL|     0|     NULL|       NULL|      NULL|        NULL|      NULL|          NULL|              NULL|     NULL|    NULL|  NULL|  NULL|  NULL|    PGIS|     -9|      -9|       1|      1|   NULL|\n",
            "|197001000002| 1970|     1|   0|      NULL|       0|      NULL|     78|            Greece|     8|      Western Europe|   Attica|       Athens| 37.99749| 23.762728|          1|       0|    NULL|   NULL|    1|    1|    1|        0|       NULL|           NULL|       0|      1|      0|          3|   Bombing/Explosion|       NULL|           NULL|       NULL|           NULL|        7|Government (Diplo...|          46|   Embassy/Consulate|                NULL|        U.S. Embassy|    217|     United States|     NULL|         NULL|        NULL|            NULL| NULL|   NULL|   NULL|       NULL|     NULL|         NULL|        NULL|            NULL| NULL|   NULL|   NULL|       NULL|             Unknown|    NULL|  NULL|     NULL|  NULL|     NULL|  NULL|          0|       NULL|       NULL|         0|  NULL|    NULL|   NULL|     NULL|         NULL|  NULL|      NULL|          NULL|  NULL|      NULL|          NULL|     NULL|        6|   Explosives|          16|Unknown Explosive...|     NULL|         NULL|        NULL|            NULL|     NULL|         NULL|        NULL|            NULL|     NULL|         NULL|        NULL|            NULL| Explosive| NULL|   NULL|    NULL|  NULL|    NULL|    NULL|       1|      NULL|          NULL|     NULL|       NULL|        0|    NULL|      NULL|  NULL| NULL|  NULL|         NULL|     0|     NULL|       NULL|      NULL|        NULL|      NULL|          NULL|              NULL|     NULL|    NULL|  NULL|  NULL|  NULL|    PGIS|     -9|      -9|       1|      1|   NULL|\n",
            "|197001000003| 1970|     1|   0|      NULL|       0|      NULL|    101|             Japan|     4|           East Asia|  Fukouka|      Fukouka|33.580412|130.396361|          1|       0|    NULL|   NULL|    1|    1|    1|       -9|       NULL|           NULL|       0|      1|      0|          7|Facility/Infrastr...|       NULL|           NULL|       NULL|           NULL|        7|Government (Diplo...|          46|   Embassy/Consulate|                NULL|      U.S. Consulate|    217|     United States|     NULL|         NULL|        NULL|            NULL| NULL|   NULL|   NULL|       NULL|     NULL|         NULL|        NULL|            NULL| NULL|   NULL|   NULL|       NULL|             Unknown|    NULL|  NULL|     NULL|  NULL|     NULL|  NULL|          0|       NULL|       NULL|         0|  NULL|    NULL|   NULL|     NULL|         NULL|  NULL|      NULL|          NULL|  NULL|      NULL|          NULL|     NULL|        8|   Incendiary|        NULL|                NULL|     NULL|         NULL|        NULL|            NULL|     NULL|         NULL|        NULL|            NULL|     NULL|         NULL|        NULL|            NULL|Incendiary| NULL|   NULL|    NULL|  NULL|    NULL|    NULL|       1|      NULL|          NULL|     NULL|       NULL|        0|    NULL|      NULL|  NULL| NULL|  NULL|         NULL|     0|     NULL|       NULL|      NULL|        NULL|      NULL|          NULL|              NULL|     NULL|    NULL|  NULL|  NULL|  NULL|    PGIS|     -9|      -9|       1|      1|   NULL|\n",
            "+------------+-----+------+----+----------+--------+----------+-------+------------------+------+--------------------+---------+-------------+---------+----------+-----------+--------+--------+-------+-----+-----+-----+---------+-----------+---------------+--------+-------+-------+-----------+--------------------+-----------+---------------+-----------+---------------+---------+--------------------+------------+--------------------+--------------------+--------------------+-------+------------------+---------+-------------+------------+----------------+-----+-------+-------+-----------+---------+-------------+------------+----------------+-----+-------+-------+-----------+--------------------+--------+------+---------+------+---------+------+-----------+-----------+-----------+----------+------+--------+-------+---------+-------------+------+----------+--------------+------+----------+--------------+---------+---------+-------------+------------+--------------------+---------+-------------+------------+----------------+---------+-------------+------------+----------------+---------+-------------+------------+----------------+----------+-----+-------+--------+------+--------+--------+--------+----------+--------------+---------+-----------+---------+--------+----------+------+-----+------+-------------+------+---------+-----------+----------+------------+----------+--------------+------------------+---------+--------+------+------+------+--------+-------+--------+--------+-------+-------+\n",
            "only showing top 5 rows\n",
            "\n",
            "root\n",
            " |-- eventid: long (nullable = true)\n",
            " |-- iyear: integer (nullable = true)\n",
            " |-- imonth: integer (nullable = true)\n",
            " |-- iday: integer (nullable = true)\n",
            " |-- approxdate: string (nullable = true)\n",
            " |-- extended: integer (nullable = true)\n",
            " |-- resolution: string (nullable = true)\n",
            " |-- country: integer (nullable = true)\n",
            " |-- country_txt: string (nullable = true)\n",
            " |-- region: integer (nullable = true)\n",
            " |-- region_txt: string (nullable = true)\n",
            " |-- provstate: string (nullable = true)\n",
            " |-- city: string (nullable = true)\n",
            " |-- latitude: double (nullable = true)\n",
            " |-- longitude: double (nullable = true)\n",
            " |-- specificity: integer (nullable = true)\n",
            " |-- vicinity: integer (nullable = true)\n",
            " |-- location: string (nullable = true)\n",
            " |-- summary: string (nullable = true)\n",
            " |-- crit1: string (nullable = true)\n",
            " |-- crit2: string (nullable = true)\n",
            " |-- crit3: string (nullable = true)\n",
            " |-- doubtterr: string (nullable = true)\n",
            " |-- alternative: string (nullable = true)\n",
            " |-- alternative_txt: string (nullable = true)\n",
            " |-- multiple: string (nullable = true)\n",
            " |-- success: string (nullable = true)\n",
            " |-- suicide: string (nullable = true)\n",
            " |-- attacktype1: string (nullable = true)\n",
            " |-- attacktype1_txt: string (nullable = true)\n",
            " |-- attacktype2: string (nullable = true)\n",
            " |-- attacktype2_txt: string (nullable = true)\n",
            " |-- attacktype3: string (nullable = true)\n",
            " |-- attacktype3_txt: string (nullable = true)\n",
            " |-- targtype1: string (nullable = true)\n",
            " |-- targtype1_txt: string (nullable = true)\n",
            " |-- targsubtype1: string (nullable = true)\n",
            " |-- targsubtype1_txt: string (nullable = true)\n",
            " |-- corp1: string (nullable = true)\n",
            " |-- target1: string (nullable = true)\n",
            " |-- natlty1: string (nullable = true)\n",
            " |-- natlty1_txt: string (nullable = true)\n",
            " |-- targtype2: string (nullable = true)\n",
            " |-- targtype2_txt: string (nullable = true)\n",
            " |-- targsubtype2: string (nullable = true)\n",
            " |-- targsubtype2_txt: string (nullable = true)\n",
            " |-- corp2: string (nullable = true)\n",
            " |-- target2: string (nullable = true)\n",
            " |-- natlty2: string (nullable = true)\n",
            " |-- natlty2_txt: string (nullable = true)\n",
            " |-- targtype3: string (nullable = true)\n",
            " |-- targtype3_txt: string (nullable = true)\n",
            " |-- targsubtype3: string (nullable = true)\n",
            " |-- targsubtype3_txt: string (nullable = true)\n",
            " |-- corp3: string (nullable = true)\n",
            " |-- target3: string (nullable = true)\n",
            " |-- natlty3: string (nullable = true)\n",
            " |-- natlty3_txt: string (nullable = true)\n",
            " |-- gname: string (nullable = true)\n",
            " |-- gsubname: string (nullable = true)\n",
            " |-- gname2: string (nullable = true)\n",
            " |-- gsubname2: string (nullable = true)\n",
            " |-- gname3: string (nullable = true)\n",
            " |-- gsubname3: string (nullable = true)\n",
            " |-- motive: string (nullable = true)\n",
            " |-- guncertain1: string (nullable = true)\n",
            " |-- guncertain2: string (nullable = true)\n",
            " |-- guncertain3: string (nullable = true)\n",
            " |-- individual: string (nullable = true)\n",
            " |-- nperps: string (nullable = true)\n",
            " |-- nperpcap: string (nullable = true)\n",
            " |-- claimed: string (nullable = true)\n",
            " |-- claimmode: string (nullable = true)\n",
            " |-- claimmode_txt: string (nullable = true)\n",
            " |-- claim2: string (nullable = true)\n",
            " |-- claimmode2: string (nullable = true)\n",
            " |-- claimmode2_txt: string (nullable = true)\n",
            " |-- claim3: string (nullable = true)\n",
            " |-- claimmode3: string (nullable = true)\n",
            " |-- claimmode3_txt: string (nullable = true)\n",
            " |-- compclaim: string (nullable = true)\n",
            " |-- weaptype1: string (nullable = true)\n",
            " |-- weaptype1_txt: string (nullable = true)\n",
            " |-- weapsubtype1: string (nullable = true)\n",
            " |-- weapsubtype1_txt: string (nullable = true)\n",
            " |-- weaptype2: string (nullable = true)\n",
            " |-- weaptype2_txt: string (nullable = true)\n",
            " |-- weapsubtype2: string (nullable = true)\n",
            " |-- weapsubtype2_txt: string (nullable = true)\n",
            " |-- weaptype3: string (nullable = true)\n",
            " |-- weaptype3_txt: string (nullable = true)\n",
            " |-- weapsubtype3: string (nullable = true)\n",
            " |-- weapsubtype3_txt: string (nullable = true)\n",
            " |-- weaptype4: string (nullable = true)\n",
            " |-- weaptype4_txt: string (nullable = true)\n",
            " |-- weapsubtype4: string (nullable = true)\n",
            " |-- weapsubtype4_txt: string (nullable = true)\n",
            " |-- weapdetail: string (nullable = true)\n",
            " |-- nkill: string (nullable = true)\n",
            " |-- nkillus: string (nullable = true)\n",
            " |-- nkillter: string (nullable = true)\n",
            " |-- nwound: string (nullable = true)\n",
            " |-- nwoundus: string (nullable = true)\n",
            " |-- nwoundte: string (nullable = true)\n",
            " |-- property: string (nullable = true)\n",
            " |-- propextent: string (nullable = true)\n",
            " |-- propextent_txt: string (nullable = true)\n",
            " |-- propvalue: string (nullable = true)\n",
            " |-- propcomment: string (nullable = true)\n",
            " |-- ishostkid: string (nullable = true)\n",
            " |-- nhostkid: string (nullable = true)\n",
            " |-- nhostkidus: string (nullable = true)\n",
            " |-- nhours: string (nullable = true)\n",
            " |-- ndays: string (nullable = true)\n",
            " |-- divert: string (nullable = true)\n",
            " |-- kidhijcountry: string (nullable = true)\n",
            " |-- ransom: string (nullable = true)\n",
            " |-- ransomamt: string (nullable = true)\n",
            " |-- ransomamtus: string (nullable = true)\n",
            " |-- ransompaid: string (nullable = true)\n",
            " |-- ransompaidus: string (nullable = true)\n",
            " |-- ransomnote: string (nullable = true)\n",
            " |-- hostkidoutcome: string (nullable = true)\n",
            " |-- hostkidoutcome_txt: string (nullable = true)\n",
            " |-- nreleased: string (nullable = true)\n",
            " |-- addnotes: string (nullable = true)\n",
            " |-- scite1: string (nullable = true)\n",
            " |-- scite2: string (nullable = true)\n",
            " |-- scite3: string (nullable = true)\n",
            " |-- dbsource: string (nullable = true)\n",
            " |-- INT_LOG: string (nullable = true)\n",
            " |-- INT_IDEO: string (nullable = true)\n",
            " |-- INT_MISC: string (nullable = true)\n",
            " |-- INT_ANY: string (nullable = true)\n",
            " |-- related: string (nullable = true)\n",
            "\n"
          ]
        }
      ]
    },
    {
      "cell_type": "markdown",
      "source": [],
      "metadata": {
        "id": "zt5frgkpvfDt"
      }
    },
    {
      "cell_type": "code",
      "source": [
        "# Count the number of rows\n",
        "row_count = spark_df.count()\n",
        "print(\"Number of rows in the dataset:\", row_count)\n"
      ],
      "metadata": {
        "colab": {
          "base_uri": "https://localhost:8080/"
        },
        "id": "obZvbrc-v7Vr",
        "outputId": "8b0e29a4-4258-4a91-dd4d-0f155e438079"
      },
      "execution_count": 19,
      "outputs": [
        {
          "output_type": "stream",
          "name": "stdout",
          "text": [
            "Number of rows in the dataset: 181691\n"
          ]
        }
      ]
    },
    {
      "cell_type": "code",
      "source": [
        "\n",
        "# Count the number of events by country\n",
        "spark_df.groupBy(\"country_txt\").count().orderBy(\"count\", ascending=False).show()"
      ],
      "metadata": {
        "colab": {
          "base_uri": "https://localhost:8080/"
        },
        "id": "PPYszFnArkCy",
        "outputId": "5dd61083-bd16-453d-a97f-0b2929f248cf"
      },
      "execution_count": 7,
      "outputs": [
        {
          "output_type": "stream",
          "name": "stdout",
          "text": [
            "+--------------+-----+\n",
            "|   country_txt|count|\n",
            "+--------------+-----+\n",
            "|          Iraq|24636|\n",
            "|      Pakistan|14368|\n",
            "|   Afghanistan|12731|\n",
            "|         India|11960|\n",
            "|      Colombia| 8306|\n",
            "|   Philippines| 6908|\n",
            "|          Peru| 6096|\n",
            "|   El Salvador| 5320|\n",
            "|United Kingdom| 5235|\n",
            "|        Turkey| 4292|\n",
            "|       Somalia| 4142|\n",
            "|       Nigeria| 3907|\n",
            "|      Thailand| 3849|\n",
            "|         Yemen| 3347|\n",
            "|         Spain| 3249|\n",
            "|     Sri Lanka| 3022|\n",
            "| United States| 2836|\n",
            "|       Algeria| 2743|\n",
            "|        France| 2693|\n",
            "|         Egypt| 2479|\n",
            "+--------------+-----+\n",
            "only showing top 20 rows\n",
            "\n"
          ]
        }
      ]
    },
    {
      "cell_type": "code",
      "source": [
        "from pyspark.sql.functions import col, isnan, when, count\n",
        "\n",
        "missing_data = spark_df.select([count(when(isnan(c) | col(c).isNull(), c)).alias(c) for c in spark_df.columns])\n",
        "missing_data.show()\n"
      ],
      "metadata": {
        "colab": {
          "base_uri": "https://localhost:8080/"
        },
        "id": "cOzk89l3rzBJ",
        "outputId": "1608b775-3054-4e8a-fc6c-3ea40b0b763b"
      },
      "execution_count": 8,
      "outputs": [
        {
          "output_type": "stream",
          "name": "stdout",
          "text": [
            "+-------+-----+------+----+----------+--------+----------+-------+-----------+------+----------+---------+----+--------+---------+-----------+--------+--------+-------+-----+-----+-----+---------+-----------+---------------+--------+-------+-------+-----------+---------------+-----------+---------------+-----------+---------------+---------+-------------+------------+----------------+-----+-------+-------+-----------+---------+-------------+------------+----------------+------+-------+-------+-----------+---------+-------------+------------+----------------+------+-------+-------+-----------+-----+--------+------+---------+------+---------+------+-----------+-----------+-----------+----------+------+--------+-------+---------+-------------+------+----------+--------------+------+----------+--------------+---------+---------+-------------+------------+----------------+---------+-------------+------------+----------------+---------+-------------+------------+----------------+---------+-------------+------------+----------------+----------+-----+-------+--------+------+--------+--------+--------+----------+--------------+---------+-----------+---------+--------+----------+------+------+------+-------------+------+---------+-----------+----------+------------+----------+--------------+------------------+---------+--------+------+------+------+--------+-------+--------+--------+-------+-------+\n",
            "|eventid|iyear|imonth|iday|approxdate|extended|resolution|country|country_txt|region|region_txt|provstate|city|latitude|longitude|specificity|vicinity|location|summary|crit1|crit2|crit3|doubtterr|alternative|alternative_txt|multiple|success|suicide|attacktype1|attacktype1_txt|attacktype2|attacktype2_txt|attacktype3|attacktype3_txt|targtype1|targtype1_txt|targsubtype1|targsubtype1_txt|corp1|target1|natlty1|natlty1_txt|targtype2|targtype2_txt|targsubtype2|targsubtype2_txt| corp2|target2|natlty2|natlty2_txt|targtype3|targtype3_txt|targsubtype3|targsubtype3_txt| corp3|target3|natlty3|natlty3_txt|gname|gsubname|gname2|gsubname2|gname3|gsubname3|motive|guncertain1|guncertain2|guncertain3|individual|nperps|nperpcap|claimed|claimmode|claimmode_txt|claim2|claimmode2|claimmode2_txt|claim3|claimmode3|claimmode3_txt|compclaim|weaptype1|weaptype1_txt|weapsubtype1|weapsubtype1_txt|weaptype2|weaptype2_txt|weapsubtype2|weapsubtype2_txt|weaptype3|weaptype3_txt|weapsubtype3|weapsubtype3_txt|weaptype4|weaptype4_txt|weapsubtype4|weapsubtype4_txt|weapdetail|nkill|nkillus|nkillter|nwound|nwoundus|nwoundte|property|propextent|propextent_txt|propvalue|propcomment|ishostkid|nhostkid|nhostkidus|nhours| ndays|divert|kidhijcountry|ransom|ransomamt|ransomamtus|ransompaid|ransompaidus|ransomnote|hostkidoutcome|hostkidoutcome_txt|nreleased|addnotes|scite1|scite2|scite3|dbsource|INT_LOG|INT_IDEO|INT_MISC|INT_ANY|related|\n",
            "+-------+-----+------+----+----------+--------+----------+-------+-----------+------+----------+---------+----+--------+---------+-----------+--------+--------+-------+-----+-----+-----+---------+-----------+---------------+--------+-------+-------+-----------+---------------+-----------+---------------+-----------+---------------+---------+-------------+------------+----------------+-----+-------+-------+-----------+---------+-------------+------------+----------------+------+-------+-------+-----------+---------+-------------+------------+----------------+------+-------+-------+-----------+-----+--------+------+---------+------+---------+------+-----------+-----------+-----------+----------+------+--------+-------+---------+-------------+------+----------+--------------+------+----------+--------------+---------+---------+-------------+------------+----------------+---------+-------------+------------+----------------+---------+-------------+------------+----------------+---------+-------------+------------+----------------+----------+-----+-------+--------+------+--------+--------+--------+----------+--------------+---------+-----------+---------+--------+----------+------+------+------+-------------+------+---------+-----------+----------+------------+----------+--------------+------------------+---------+--------+------+------+------+--------+-------+--------+--------+-------+-------+\n",
            "|      0|    0|     0|   0|    172452|       0|    179471|      0|          0|     0|         0|      423| 434|    4556|     4557|          6|       0|  126196|  66129|    0|    0|    0|        1|     152241|         152414|     297|    178|     85|         54|             35|     174947|         175111|     181084|         181154|      419|          263|       10503|           10451|42517|    682|   1600|       1584|   170117|       170289|      170853|          170911|171508| 170633| 170845|     170853|   180453|       180472|      180563|          180570|180653| 180507| 180539|     180540|  487|  175640|179575|   181441|181302|   181637|131567|        687|     179215|     180967|       517| 71368|   69737|  66283|   162383|       162472|179356|    180731|        180873|181275|    181497|        181521|   176959|      692|          436|       20958|           20846|   167993|       168199|      169926|          170047|   179726|       179767|      179963|          179980|   181594|       181598|      181607|          181609|     68106|10897|  64802|   67146| 16400|   64769|   69169|      50|    117295|        117429|   142422|     123759|      542|  167657|    167853|177390|173472|181268|       178334|104420|   180254|     181080|    180886|      181117|    181165|        170754|            170728|   171300|  153695| 66796| 70989| 74436|     877|  26853|   33185|    8094|   1851|  84106|\n",
            "+-------+-----+------+----+----------+--------+----------+-------+-----------+------+----------+---------+----+--------+---------+-----------+--------+--------+-------+-----+-----+-----+---------+-----------+---------------+--------+-------+-------+-----------+---------------+-----------+---------------+-----------+---------------+---------+-------------+------------+----------------+-----+-------+-------+-----------+---------+-------------+------------+----------------+------+-------+-------+-----------+---------+-------------+------------+----------------+------+-------+-------+-----------+-----+--------+------+---------+------+---------+------+-----------+-----------+-----------+----------+------+--------+-------+---------+-------------+------+----------+--------------+------+----------+--------------+---------+---------+-------------+------------+----------------+---------+-------------+------------+----------------+---------+-------------+------------+----------------+---------+-------------+------------+----------------+----------+-----+-------+--------+------+--------+--------+--------+----------+--------------+---------+-----------+---------+--------+----------+------+------+------+-------------+------+---------+-----------+----------+------------+----------+--------------+------------------+---------+--------+------+------+------+--------+-------+--------+--------+-------+-------+\n",
            "\n"
          ]
        }
      ]
    },
    {
      "cell_type": "code",
      "source": [
        "# Groups the data by year, counts the number of occurrences for each year\n",
        "spark_df.groupBy(\"iyear\").count().orderBy(\"iyear\").show()"
      ],
      "metadata": {
        "colab": {
          "base_uri": "https://localhost:8080/"
        },
        "id": "IK0FbVWEsYle",
        "outputId": "4fa57493-9402-4635-9c5b-5702863c6db7"
      },
      "execution_count": 11,
      "outputs": [
        {
          "output_type": "stream",
          "name": "stdout",
          "text": [
            "+-----+-----+\n",
            "|iyear|count|\n",
            "+-----+-----+\n",
            "| 1970|  651|\n",
            "| 1971|  471|\n",
            "| 1972|  568|\n",
            "| 1973|  473|\n",
            "| 1974|  581|\n",
            "| 1975|  740|\n",
            "| 1976|  923|\n",
            "| 1977| 1319|\n",
            "| 1978| 1526|\n",
            "| 1979| 2662|\n",
            "| 1980| 2662|\n",
            "| 1981| 2586|\n",
            "| 1982| 2544|\n",
            "| 1983| 2870|\n",
            "| 1984| 3495|\n",
            "| 1985| 2915|\n",
            "| 1986| 2860|\n",
            "| 1987| 3183|\n",
            "| 1988| 3721|\n",
            "| 1989| 4324|\n",
            "+-----+-----+\n",
            "only showing top 20 rows\n",
            "\n"
          ]
        }
      ]
    },
    {
      "cell_type": "code",
      "source": [
        "spark_df.groupBy(\"region_txt\").count().orderBy(\"count\", ascending=False).show(10)"
      ],
      "metadata": {
        "colab": {
          "base_uri": "https://localhost:8080/"
        },
        "id": "1KBMj377siAu",
        "outputId": "6eb38722-cfd9-4e79-eaa8-550ac9c33d08"
      },
      "execution_count": 11,
      "outputs": [
        {
          "output_type": "stream",
          "name": "stdout",
          "text": [
            "+--------------------+-----+\n",
            "|          region_txt|count|\n",
            "+--------------------+-----+\n",
            "|Middle East & Nor...|50474|\n",
            "|          South Asia|44974|\n",
            "|       South America|18978|\n",
            "|  Sub-Saharan Africa|17550|\n",
            "|      Western Europe|16639|\n",
            "|      Southeast Asia|12485|\n",
            "|Central America &...|10344|\n",
            "|      Eastern Europe| 5144|\n",
            "|       North America| 3456|\n",
            "|           East Asia|  802|\n",
            "+--------------------+-----+\n",
            "only showing top 10 rows\n",
            "\n"
          ]
        }
      ]
    },
    {
      "cell_type": "code",
      "source": [
        "spark_df.groupBy(\"attacktype1_txt\").count().orderBy(\"count\", ascending=False).show()\n"
      ],
      "metadata": {
        "colab": {
          "base_uri": "https://localhost:8080/"
        },
        "id": "Rl6ZJD1ZslLs",
        "outputId": "e7ebae6d-9fba-4392-c773-d5d57011d746"
      },
      "execution_count": 12,
      "outputs": [
        {
          "output_type": "stream",
          "name": "stdout",
          "text": [
            "+--------------------+-----+\n",
            "|     attacktype1_txt|count|\n",
            "+--------------------+-----+\n",
            "|   Bombing/Explosion|88101|\n",
            "|       Armed Assault|42566|\n",
            "|       Assassination|19285|\n",
            "|Hostage Taking (K...|11115|\n",
            "|Facility/Infrastr...|10222|\n",
            "|             Unknown| 7267|\n",
            "|     Unarmed Assault| 1003|\n",
            "|Hostage Taking (B...|  989|\n",
            "|           Hijacking|  657|\n",
            "|                   0|  167|\n",
            "|                   1|  100|\n",
            "|                   3|   56|\n",
            "|                   7|   52|\n",
            "|                   2|   40|\n",
            "|                NULL|   35|\n",
            "|                   6|   16|\n",
            "|                   8|    5|\n",
            "|                   9|    4|\n",
            "|                   5|    2|\n",
            "| the Red Hand Def...|    1|\n",
            "+--------------------+-----+\n",
            "only showing top 20 rows\n",
            "\n"
          ]
        }
      ]
    },
    {
      "cell_type": "code",
      "source": [
        "from pyspark.sql.functions import col\n",
        "from pyspark.sql.types import DoubleType\n",
        "\n",
        "# Cast the columns to DoubleType\n",
        "spark_df = spark_df.withColumn(\"nkill\", col(\"nkill\").cast(DoubleType()))\n",
        "spark_df = spark_df.withColumn(\"nwound\", col(\"nwound\").cast(DoubleType()))\n",
        "\n",
        "# Check if the casting was successful by printing the schema\n",
        "spark_df.printSchema()\n"
      ],
      "metadata": {
        "colab": {
          "base_uri": "https://localhost:8080/"
        },
        "id": "wQVlI_KfsncG",
        "outputId": "3c3d6274-06ed-43ea-993f-00a8b232b062"
      },
      "execution_count": 14,
      "outputs": [
        {
          "output_type": "stream",
          "name": "stdout",
          "text": [
            "root\n",
            " |-- eventid: long (nullable = true)\n",
            " |-- iyear: integer (nullable = true)\n",
            " |-- imonth: integer (nullable = true)\n",
            " |-- iday: integer (nullable = true)\n",
            " |-- approxdate: string (nullable = true)\n",
            " |-- extended: integer (nullable = true)\n",
            " |-- resolution: string (nullable = true)\n",
            " |-- country: integer (nullable = true)\n",
            " |-- country_txt: string (nullable = true)\n",
            " |-- region: integer (nullable = true)\n",
            " |-- region_txt: string (nullable = true)\n",
            " |-- provstate: string (nullable = true)\n",
            " |-- city: string (nullable = true)\n",
            " |-- latitude: double (nullable = true)\n",
            " |-- longitude: double (nullable = true)\n",
            " |-- specificity: integer (nullable = true)\n",
            " |-- vicinity: integer (nullable = true)\n",
            " |-- location: string (nullable = true)\n",
            " |-- summary: string (nullable = true)\n",
            " |-- crit1: string (nullable = true)\n",
            " |-- crit2: string (nullable = true)\n",
            " |-- crit3: string (nullable = true)\n",
            " |-- doubtterr: string (nullable = true)\n",
            " |-- alternative: string (nullable = true)\n",
            " |-- alternative_txt: string (nullable = true)\n",
            " |-- multiple: string (nullable = true)\n",
            " |-- success: string (nullable = true)\n",
            " |-- suicide: string (nullable = true)\n",
            " |-- attacktype1: string (nullable = true)\n",
            " |-- attacktype1_txt: string (nullable = true)\n",
            " |-- attacktype2: string (nullable = true)\n",
            " |-- attacktype2_txt: string (nullable = true)\n",
            " |-- attacktype3: string (nullable = true)\n",
            " |-- attacktype3_txt: string (nullable = true)\n",
            " |-- targtype1: string (nullable = true)\n",
            " |-- targtype1_txt: string (nullable = true)\n",
            " |-- targsubtype1: string (nullable = true)\n",
            " |-- targsubtype1_txt: string (nullable = true)\n",
            " |-- corp1: string (nullable = true)\n",
            " |-- target1: string (nullable = true)\n",
            " |-- natlty1: string (nullable = true)\n",
            " |-- natlty1_txt: string (nullable = true)\n",
            " |-- targtype2: string (nullable = true)\n",
            " |-- targtype2_txt: string (nullable = true)\n",
            " |-- targsubtype2: string (nullable = true)\n",
            " |-- targsubtype2_txt: string (nullable = true)\n",
            " |-- corp2: string (nullable = true)\n",
            " |-- target2: string (nullable = true)\n",
            " |-- natlty2: string (nullable = true)\n",
            " |-- natlty2_txt: string (nullable = true)\n",
            " |-- targtype3: string (nullable = true)\n",
            " |-- targtype3_txt: string (nullable = true)\n",
            " |-- targsubtype3: string (nullable = true)\n",
            " |-- targsubtype3_txt: string (nullable = true)\n",
            " |-- corp3: string (nullable = true)\n",
            " |-- target3: string (nullable = true)\n",
            " |-- natlty3: string (nullable = true)\n",
            " |-- natlty3_txt: string (nullable = true)\n",
            " |-- gname: string (nullable = true)\n",
            " |-- gsubname: string (nullable = true)\n",
            " |-- gname2: string (nullable = true)\n",
            " |-- gsubname2: string (nullable = true)\n",
            " |-- gname3: string (nullable = true)\n",
            " |-- gsubname3: string (nullable = true)\n",
            " |-- motive: string (nullable = true)\n",
            " |-- guncertain1: string (nullable = true)\n",
            " |-- guncertain2: string (nullable = true)\n",
            " |-- guncertain3: string (nullable = true)\n",
            " |-- individual: string (nullable = true)\n",
            " |-- nperps: string (nullable = true)\n",
            " |-- nperpcap: string (nullable = true)\n",
            " |-- claimed: string (nullable = true)\n",
            " |-- claimmode: string (nullable = true)\n",
            " |-- claimmode_txt: string (nullable = true)\n",
            " |-- claim2: string (nullable = true)\n",
            " |-- claimmode2: string (nullable = true)\n",
            " |-- claimmode2_txt: string (nullable = true)\n",
            " |-- claim3: string (nullable = true)\n",
            " |-- claimmode3: string (nullable = true)\n",
            " |-- claimmode3_txt: string (nullable = true)\n",
            " |-- compclaim: string (nullable = true)\n",
            " |-- weaptype1: string (nullable = true)\n",
            " |-- weaptype1_txt: string (nullable = true)\n",
            " |-- weapsubtype1: string (nullable = true)\n",
            " |-- weapsubtype1_txt: string (nullable = true)\n",
            " |-- weaptype2: string (nullable = true)\n",
            " |-- weaptype2_txt: string (nullable = true)\n",
            " |-- weapsubtype2: string (nullable = true)\n",
            " |-- weapsubtype2_txt: string (nullable = true)\n",
            " |-- weaptype3: string (nullable = true)\n",
            " |-- weaptype3_txt: string (nullable = true)\n",
            " |-- weapsubtype3: string (nullable = true)\n",
            " |-- weapsubtype3_txt: string (nullable = true)\n",
            " |-- weaptype4: string (nullable = true)\n",
            " |-- weaptype4_txt: string (nullable = true)\n",
            " |-- weapsubtype4: string (nullable = true)\n",
            " |-- weapsubtype4_txt: string (nullable = true)\n",
            " |-- weapdetail: string (nullable = true)\n",
            " |-- nkill: double (nullable = true)\n",
            " |-- nkillus: string (nullable = true)\n",
            " |-- nkillter: string (nullable = true)\n",
            " |-- nwound: double (nullable = true)\n",
            " |-- nwoundus: string (nullable = true)\n",
            " |-- nwoundte: string (nullable = true)\n",
            " |-- property: string (nullable = true)\n",
            " |-- propextent: string (nullable = true)\n",
            " |-- propextent_txt: string (nullable = true)\n",
            " |-- propvalue: string (nullable = true)\n",
            " |-- propcomment: string (nullable = true)\n",
            " |-- ishostkid: string (nullable = true)\n",
            " |-- nhostkid: string (nullable = true)\n",
            " |-- nhostkidus: string (nullable = true)\n",
            " |-- nhours: string (nullable = true)\n",
            " |-- ndays: string (nullable = true)\n",
            " |-- divert: string (nullable = true)\n",
            " |-- kidhijcountry: string (nullable = true)\n",
            " |-- ransom: string (nullable = true)\n",
            " |-- ransomamt: string (nullable = true)\n",
            " |-- ransomamtus: string (nullable = true)\n",
            " |-- ransompaid: string (nullable = true)\n",
            " |-- ransompaidus: string (nullable = true)\n",
            " |-- ransomnote: string (nullable = true)\n",
            " |-- hostkidoutcome: string (nullable = true)\n",
            " |-- hostkidoutcome_txt: string (nullable = true)\n",
            " |-- nreleased: string (nullable = true)\n",
            " |-- addnotes: string (nullable = true)\n",
            " |-- scite1: string (nullable = true)\n",
            " |-- scite2: string (nullable = true)\n",
            " |-- scite3: string (nullable = true)\n",
            " |-- dbsource: string (nullable = true)\n",
            " |-- INT_LOG: string (nullable = true)\n",
            " |-- INT_IDEO: string (nullable = true)\n",
            " |-- INT_MISC: string (nullable = true)\n",
            " |-- INT_ANY: string (nullable = true)\n",
            " |-- related: string (nullable = true)\n",
            "\n"
          ]
        }
      ]
    },
    {
      "cell_type": "code",
      "source": [
        "correlation = spark_df.corr(\"nkill\", \"nwound\")\n",
        "print(f\"Correlation between number of kills and number of wounds: {correlation}\")\n"
      ],
      "metadata": {
        "colab": {
          "base_uri": "https://localhost:8080/"
        },
        "id": "sjWkUWYcsqqj",
        "outputId": "1d59131f-8b73-4c10-8c91-867386056635"
      },
      "execution_count": 15,
      "outputs": [
        {
          "output_type": "stream",
          "name": "stdout",
          "text": [
            "Correlation between number of kills and number of wounds: 0.4437453082033473\n"
          ]
        }
      ]
    },
    {
      "cell_type": "code",
      "source": [
        "pivot_table = spark_df.groupBy(\"iyear\", \"country_txt\").count().groupBy(\"iyear\").pivot(\"country_txt\").sum(\"count\")\n",
        "pivot_table.show()"
      ],
      "metadata": {
        "colab": {
          "base_uri": "https://localhost:8080/"
        },
        "id": "375ameOxs6c9",
        "outputId": "f683aa00-6ca0-4b8e-f89f-457ba5e0b455"
      },
      "execution_count": 16,
      "outputs": [
        {
          "output_type": "stream",
          "name": "stdout",
          "text": [
            "+-----+-----------+-------+-------+-------+------+-------------------+---------+-------+---------+-------+----------+-------+-------+----------+--------+-------+-------+------+-----+------+-------+------------------+--------+------+------+--------+------------+-------+--------+--------+------+------------------------+----+-----+-----+--------+-------+----------+-------+----+------+--------------+--------------+--------------------------------+-------+--------+--------+------------------+------------------+----------+-------+-----+-----------+-----------------+-------+-------+--------+----------------+----+-------+------+-------------+----------------+-----+------+-------+-------+-----+------+-------+----------+---------+------+-------------+------+-----+--------+---------+-------+-------+-----+---------+-------------+----+----+-------+------+-----+-----------+-------+-----+------+----------+-----+------+------+----------+----+------+-------+-------+-------+-----+---------+----------+-----+---------+----------+------+--------+--------+----+-----+----------+----------+---------+------+-------+----------+-------+----------+-------+-------+-----+-----------+-------------+------------+-----------+---------+-----+-------+-----------+-----------+------+--------+------+----------------+--------+------------------------------+----+-----------+------+--------+-----+---------------------+--------+-------+------+------+------------+-------+------+-----------------+----------+------------+---------+---------------+--------+---------------+-------+------------+-----------+-----------+-------------+-----------+------------+-----+---------+-------------------+---------+-----+--------+---------+------+-----------+-----+------+----------+--------+--------+----+-------------------+-------+------+------------+------+-------+--------------------+--------------+-------------+-------+----------+-------+------------+---------+-------+-----------------+------------------------+------------------+--------------+-----+----------+-----+------+--------+\n",
            "|iyear|Afghanistan|Albania|Algeria|Andorra|Angola|Antigua and Barbuda|Argentina|Armenia|Australia|Austria|Azerbaijan|Bahamas|Bahrain|Bangladesh|Barbados|Belarus|Belgium|Belize|Benin|Bhutan|Bolivia|Bosnia-Herzegovina|Botswana|Brazil|Brunei|Bulgaria|Burkina Faso|Burundi|Cambodia|Cameroon|Canada|Central African Republic|Chad|Chile|China|Colombia|Comoros|Costa Rica|Croatia|Cuba|Cyprus|Czech Republic|Czechoslovakia|Democratic Republic of the Congo|Denmark|Djibouti|Dominica|Dominican Republic|East Germany (GDR)|East Timor|Ecuador|Egypt|El Salvador|Equatorial Guinea|Eritrea|Estonia|Ethiopia|Falkland Islands|Fiji|Finland|France|French Guiana|French Polynesia|Gabon|Gambia|Georgia|Germany|Ghana|Greece|Grenada|Guadeloupe|Guatemala|Guinea|Guinea-Bissau|Guyana|Haiti|Honduras|Hong Kong|Hungary|Iceland|India|Indonesia|International|Iran|Iraq|Ireland|Israel|Italy|Ivory Coast|Jamaica|Japan|Jordan|Kazakhstan|Kenya|Kosovo|Kuwait|Kyrgyzstan|Laos|Latvia|Lebanon|Lesotho|Liberia|Libya|Lithuania|Luxembourg|Macau|Macedonia|Madagascar|Malawi|Malaysia|Maldives|Mali|Malta|Martinique|Mauritania|Mauritius|Mexico|Moldova|Montenegro|Morocco|Mozambique|Myanmar|Namibia|Nepal|Netherlands|New Caledonia|New Hebrides|New Zealand|Nicaragua|Niger|Nigeria|North Korea|North Yemen|Norway|Pakistan|Panama|Papua New Guinea|Paraguay|People's Republic of the Congo|Peru|Philippines|Poland|Portugal|Qatar|Republic of the Congo|Rhodesia|Romania|Russia|Rwanda|Saudi Arabia|Senegal|Serbia|Serbia-Montenegro|Seychelles|Sierra Leone|Singapore|Slovak Republic|Slovenia|Solomon Islands|Somalia|South Africa|South Korea|South Sudan|South Vietnam|South Yemen|Soviet Union|Spain|Sri Lanka|St. Kitts and Nevis|St. Lucia|Sudan|Suriname|Swaziland|Sweden|Switzerland|Syria|Taiwan|Tajikistan|Tanzania|Thailand|Togo|Trinidad and Tobago|Tunisia|Turkey|Turkmenistan|Uganda|Ukraine|United Arab Emirates|United Kingdom|United States|Uruguay|Uzbekistan|Vanuatu|Vatican City|Venezuela|Vietnam|Wallis and Futuna|West Bank and Gaza Strip|West Germany (FRG)|Western Sahara|Yemen|Yugoslavia|Zaire|Zambia|Zimbabwe|\n",
            "+-----+-----------+-------+-------+-------+------+-------------------+---------+-------+---------+-------+----------+-------+-------+----------+--------+-------+-------+------+-----+------+-------+------------------+--------+------+------+--------+------------+-------+--------+--------+------+------------------------+----+-----+-----+--------+-------+----------+-------+----+------+--------------+--------------+--------------------------------+-------+--------+--------+------------------+------------------+----------+-------+-----+-----------+-----------------+-------+-------+--------+----------------+----+-------+------+-------------+----------------+-----+------+-------+-------+-----+------+-------+----------+---------+------+-------------+------+-----+--------+---------+-------+-------+-----+---------+-------------+----+----+-------+------+-----+-----------+-------+-----+------+----------+-----+------+------+----------+----+------+-------+-------+-------+-----+---------+----------+-----+---------+----------+------+--------+--------+----+-----+----------+----------+---------+------+-------+----------+-------+----------+-------+-------+-----+-----------+-------------+------------+-----------+---------+-----+-------+-----------+-----------+------+--------+------+----------------+--------+------------------------------+----+-----------+------+--------+-----+---------------------+--------+-------+------+------+------------+-------+------+-----------------+----------+------------+---------+---------------+--------+---------------+-------+------------+-----------+-----------+-------------+-----------+------------+-----+---------+-------------------+---------+-----+--------+---------+------+-----------+-----+------+----------+--------+--------+----+-------------------+-------+------+------------+------+-------+--------------------+--------------+-------------+-------+----------+-------+------------+---------+-------+-----------------+------------------------+------------------+--------------+-----+----------+-----+------+--------+\n",
            "| 1990|          2|      1|      2|   NULL|   205|               NULL|       31|   NULL|     NULL|      1|      NULL|   NULL|   NULL|        22|    NULL|   NULL|      2|  NULL| NULL|  NULL|     11|              NULL|       1|     7|  NULL|       5|        NULL|   NULL|       2|    NULL|  NULL|                    NULL|NULL|  161|    1|     349|   NULL|         1|   NULL|NULL|    11|          NULL|             1|                            NULL|   NULL|       1|    NULL|                 2|                 3|      NULL|      8|   13|        184|             NULL|   NULL|   NULL|      10|            NULL|NULL|   NULL|    30|         NULL|            NULL| NULL|  NULL|   NULL|      1| NULL|    55|   NULL|      NULL|       83|  NULL|         NULL|     5|    3|      13|        1|   NULL|   NULL|  349|        3|         NULL|  11|NULL|      2|    98|    6|       NULL|   NULL|   93|     3|      NULL| NULL|  NULL|  NULL|      NULL|   1|  NULL|     84|   NULL|      4| NULL|     NULL|      NULL| NULL|     NULL|      NULL|  NULL|       3|    NULL|   1| NULL|      NULL|      NULL|     NULL|     5|   NULL|      NULL|   NULL|        23|      9|      2| NULL|          6|         NULL|        NULL|       NULL|       15| NULL|   NULL|       NULL|       NULL|  NULL|      87|    15|              18|    NULL|                          NULL| 495|        320|     7|    NULL| NULL|                    1|    NULL|   NULL|  NULL|  NULL|        NULL|     11|  NULL|             NULL|      NULL|        NULL|     NULL|           NULL|    NULL|           NULL|     12|         154|          3|       NULL|         NULL|       NULL|          36|  113|      141|               NULL|     NULL|    1|       7|     NULL|     6|          1| NULL|     1|      NULL|    NULL|      10|NULL|               NULL|   NULL|   195|        NULL|    14|   NULL|                NULL|           147|           32|      1|      NULL|   NULL|        NULL|        1|   NULL|             NULL|                      88|                 9|          NULL| NULL|         5| NULL|     4|       6|\n",
            "| 1975|       NULL|   NULL|   NULL|   NULL|  NULL|               NULL|       38|   NULL|     NULL|      2|      NULL|   NULL|   NULL|      NULL|    NULL|   NULL|   NULL|  NULL| NULL|  NULL|   NULL|              NULL|    NULL|  NULL|  NULL|    NULL|        NULL|   NULL|    NULL|    NULL|  NULL|                    NULL|NULL| NULL| NULL|      10|   NULL|      NULL|   NULL|NULL|     2|          NULL|          NULL|                            NULL|   NULL|    NULL|    NULL|              NULL|              NULL|      NULL|   NULL| NULL|          3|             NULL|   NULL|   NULL|       4|            NULL|NULL|   NULL|    39|         NULL|            NULL| NULL|  NULL|   NULL|   NULL| NULL|     4|   NULL|      NULL|        5|  NULL|         NULL|  NULL| NULL|    NULL|     NULL|   NULL|   NULL|    1|     NULL|         NULL|  13|   1|      7|     2|    7|       NULL|   NULL|   12|  NULL|      NULL|    4|  NULL|     1|      NULL|NULL|  NULL|     15|   NULL|   NULL| NULL|     NULL|      NULL| NULL|     NULL|      NULL|  NULL|       3|    NULL|NULL| NULL|      NULL|      NULL|     NULL|    10|   NULL|      NULL|   NULL|      NULL|   NULL|      1| NULL|          4|         NULL|        NULL|       NULL|        1| NULL|   NULL|       NULL|       NULL|  NULL|       2|  NULL|            NULL|    NULL|                          NULL|   2|          4|  NULL|       4| NULL|                 NULL|    NULL|   NULL|  NULL|  NULL|        NULL|   NULL|  NULL|             NULL|      NULL|        NULL|     NULL|           NULL|    NULL|           NULL|      1|        NULL|       NULL|       NULL|         NULL|       NULL|        NULL|  136|        1|               NULL|     NULL| NULL|    NULL|     NULL|     1|          3|    2|  NULL|      NULL|       1|    NULL|NULL|               NULL|   NULL|    10|        NULL|  NULL|   NULL|                NULL|           194|          149|   NULL|      NULL|   NULL|        NULL|        5|   NULL|             NULL|                    NULL|                35|          NULL| NULL|      NULL| NULL|     1|    NULL|\n",
            "| 1977|       NULL|   NULL|   NULL|   NULL|     1|               NULL|       17|   NULL|     NULL|      5|      NULL|   NULL|   NULL|         1|    NULL|   NULL|      1|  NULL| NULL|  NULL|      1|              NULL|    NULL|     1|  NULL|    NULL|        NULL|   NULL|    NULL|    NULL|  NULL|                    NULL|NULL|    6| NULL|      80|   NULL|         5|   NULL|NULL|     1|          NULL|          NULL|                            NULL|   NULL|       1|    NULL|              NULL|                 1|      NULL|      7|    1|          6|             NULL|   NULL|   NULL|       4|            NULL|NULL|   NULL|    53|         NULL|            NULL| NULL|  NULL|   NULL|   NULL| NULL|    47|   NULL|      NULL|        8|  NULL|         NULL|  NULL| NULL|    NULL|     NULL|   NULL|   NULL|    1|        1|         NULL|   5|NULL|      3|     6|  308|       NULL|   NULL|    4|  NULL|      NULL| NULL|  NULL|  NULL|      NULL|NULL|  NULL|      4|   NULL|   NULL| NULL|     NULL|      NULL| NULL|     NULL|      NULL|  NULL|       2|    NULL|NULL|    1|      NULL|         4|     NULL|    19|   NULL|      NULL|   NULL|      NULL|   NULL|   NULL| NULL|          6|         NULL|        NULL|       NULL|        5| NULL|   NULL|       NULL|          1|  NULL|    NULL|  NULL|            NULL|    NULL|                             2|   4|          2|  NULL|      15| NULL|                 NULL|    NULL|   NULL|  NULL|  NULL|           1|   NULL|  NULL|             NULL|      NULL|        NULL|     NULL|           NULL|    NULL|           NULL|   NULL|          15|       NULL|       NULL|         NULL|       NULL|        NULL|  147|     NULL|               NULL|     NULL| NULL|    NULL|     NULL|  NULL|          4|    3|  NULL|      NULL|    NULL|       3|NULL|               NULL|   NULL|   189|        NULL|  NULL|   NULL|                   1|           140|          130|   NULL|      NULL|   NULL|        NULL|        3|   NULL|             NULL|                    NULL|                40|          NULL| NULL|         1|    1|     1|    NULL|\n",
            "| 2003|        100|      1|     75|   NULL|  NULL|               NULL|        1|   NULL|     NULL|   NULL|      NULL|   NULL|      1|         4|    NULL|   NULL|      8|  NULL| NULL|  NULL|      1|                 1|    NULL|     1|  NULL|    NULL|        NULL|     18|       1|    NULL|  NULL|                    NULL|NULL|    2|    3|      98|   NULL|      NULL|   NULL|NULL|  NULL|             1|          NULL|                               6|   NULL|    NULL|    NULL|              NULL|              NULL|         2|      4| NULL|       NULL|             NULL|   NULL|   NULL|       1|            NULL|NULL|   NULL|    34|         NULL|            NULL| NULL|  NULL|      6|      2| NULL|    12|   NULL|      NULL|        3|  NULL|            1|     1|    5|    NULL|     NULL|   NULL|   NULL|  196|       18|         NULL|   2| 102|      1|    38|   15|       NULL|   NULL|    2|  NULL|      NULL|    2|     9|     3|         1|   2|  NULL|      5|   NULL|      2| NULL|     NULL|      NULL| NULL|        5|      NULL|  NULL|    NULL|    NULL|NULL| NULL|      NULL|      NULL|     NULL|     1|   NULL|      NULL|      5|      NULL|      9|   NULL|   15|          3|         NULL|        NULL|          3|     NULL| NULL|      9|       NULL|       NULL|     1|      29|  NULL|            NULL|    NULL|                          NULL|   1|        107|  NULL|    NULL| NULL|                    1|    NULL|   NULL|    76|  NULL|           8|   NULL|  NULL|                6|      NULL|        NULL|     NULL|           NULL|    NULL|              1|      1|        NULL|          1|       NULL|         NULL|       NULL|        NULL|   21|        9|               NULL|     NULL| NULL|    NULL|        1|  NULL|          1| NULL|  NULL|      NULL|    NULL|       6|NULL|               NULL|   NULL|    19|        NULL|    30|      1|                NULL|            23|           33|   NULL|      NULL|   NULL|        NULL|        8|   NULL|             NULL|                      45|              NULL|          NULL|    7|      NULL| NULL|  NULL|       1|\n",
            "| 2007|        341|   NULL|    124|   NULL|  NULL|               NULL|     NULL|      1|     NULL|      1|         1|   NULL|   NULL|         9|    NULL|   NULL|      1|  NULL|    1|  NULL|      3|                 2|    NULL|  NULL|  NULL|    NULL|        NULL|      3|    NULL|       1|  NULL|                       1|   7|    8| NULL|      30|   NULL|      NULL|   NULL|   1|     1|          NULL|          NULL|                              11|   NULL|    NULL|    NULL|              NULL|              NULL|         2|   NULL| NULL|       NULL|             NULL|      2|   NULL|       5|            NULL|NULL|      1|    16|         NULL|            NULL| NULL|  NULL|   NULL|      3| NULL|    15|   NULL|      NULL|     NULL|  NULL|         NULL|  NULL|    2|    NULL|     NULL|   NULL|   NULL|  149|        2|         NULL|   9|1047|      1|    53| NULL|          1|      1| NULL|  NULL|      NULL|   12|     5|  NULL|         1|NULL|     1|     18|   NULL|   NULL|    1|     NULL|      NULL| NULL|        1|      NULL|  NULL|    NULL|       1|   5| NULL|      NULL|      NULL|     NULL|    10|   NULL|         1|      6|         1|      3|   NULL|   90|       NULL|         NULL|        NULL|       NULL|     NULL|    7|     61|       NULL|       NULL|  NULL|     260|  NULL|               1|    NULL|                          NULL|   4|         65|  NULL|    NULL| NULL|                 NULL|    NULL|   NULL|    51|  NULL|           1|      1|  NULL|             NULL|      NULL|        NULL|     NULL|           NULL|    NULL|           NULL|    156|           2|       NULL|       NULL|         NULL|       NULL|        NULL|   11|      132|               NULL|     NULL|   23|    NULL|     NULL|  NULL|          2| NULL|  NULL|         1|    NULL|     293|NULL|               NULL|      1|    29|        NULL|     1|      1|                NULL|            20|            8|   NULL|      NULL|   NULL|        NULL|        2|   NULL|             NULL|                      88|              NULL|             1|    7|      NULL| NULL|  NULL|       1|\n",
            "| 1974|       NULL|   NULL|   NULL|      1|  NULL|               NULL|       71|   NULL|        1|      1|      NULL|   NULL|   NULL|      NULL|    NULL|   NULL|      5|  NULL| NULL|  NULL|      1|              NULL|       1|  NULL|  NULL|    NULL|        NULL|   NULL|    NULL|    NULL|     1|                    NULL|   1| NULL| NULL|    NULL|   NULL|      NULL|   NULL|NULL|  NULL|          NULL|          NULL|                            NULL|   NULL|    NULL|    NULL|                 2|                 1|      NULL|      3| NULL|          3|             NULL|   NULL|   NULL|       4|            NULL|NULL|   NULL|    29|         NULL|            NULL| NULL|  NULL|   NULL|   NULL| NULL|     6|   NULL|      NULL|        1|  NULL|         NULL|  NULL|    2|    NULL|     NULL|   NULL|   NULL| NULL|     NULL|         NULL|  11|NULL|      3|    12|   22|       NULL|      2|    3|  NULL|      NULL| NULL|  NULL|     1|      NULL|NULL|  NULL|     11|   NULL|   NULL| NULL|     NULL|      NULL| NULL|     NULL|      NULL|  NULL|    NULL|    NULL|NULL| NULL|      NULL|      NULL|     NULL|    16|   NULL|      NULL|   NULL|      NULL|   NULL|   NULL| NULL|          2|         NULL|        NULL|       NULL|        1| NULL|   NULL|       NULL|          1|  NULL|       2|  NULL|            NULL|    NULL|                          NULL|   3|          1|  NULL|    NULL| NULL|                 NULL|    NULL|   NULL|  NULL|  NULL|        NULL|   NULL|  NULL|             NULL|      NULL|        NULL|        1|           NULL|    NULL|           NULL|   NULL|           1|          1|       NULL|         NULL|       NULL|        NULL|   14|     NULL|               NULL|     NULL| NULL|    NULL|     NULL|  NULL|          3|    4|  NULL|      NULL|    NULL|       1|NULL|               NULL|   NULL|     1|        NULL|  NULL|   NULL|                   1|           203|           94|   NULL|      NULL|   NULL|        NULL|        3|   NULL|             NULL|                    NULL|                28|          NULL| NULL|         1| NULL|  NULL|    NULL|\n",
            "| 2015|       1928|      4|     16|   NULL|  NULL|               NULL|        1|      2|       14|   NULL|      NULL|   NULL|     18|       469|    NULL|   NULL|   NULL|  NULL| NULL|  NULL|   NULL|                 6|    NULL|     5|  NULL|       2|           6|    102|    NULL|      83|     5|                      48|  27|    1|   17|     136|   NULL|      NULL|   NULL|NULL|     3|             4|          NULL|                             143|      4|       1|    NULL|              NULL|              NULL|      NULL|      1|  647|       NULL|             NULL|   NULL|      2|       7|            NULL|NULL|      9|    37|         NULL|            NULL| NULL|  NULL|      1|     65| NULL|    31|   NULL|      NULL|     NULL|     2|         NULL|  NULL| NULL|    NULL|     NULL|      1|   NULL|  884|       29|         NULL|   9|2751|     28|    58|    5|          4|   NULL|   10|     4|      NULL|   71|     2|     1|         3|   2|  NULL|     44|      1|   NULL|  543|     NULL|      NULL| NULL|        4|      NULL|  NULL|       5|       2| 121|    1|      NULL|      NULL|     NULL|    19|   NULL|         1|      1|         8|     37|   NULL|   48|          3|         NULL|        NULL|       NULL|     NULL|   41|    638|       NULL|       NULL|  NULL|    1243|  NULL|            NULL|      19|                          NULL|  10|        721|  NULL|    NULL|    1|                 NULL|    NULL|   NULL|    21|  NULL|         103|      2|  NULL|             NULL|      NULL|        NULL|     NULL|           NULL|    NULL|           NULL|    418|           5|          1|         54|         NULL|       NULL|        NULL|    1|       11|               NULL|     NULL|  158|    NULL|     NULL|    32|       NULL|  491|  NULL|         3|      14|     278|NULL|                  1|     17|   422|        NULL|    10|    637|                NULL|           114|           38|   NULL|         1|   NULL|        NULL|        3|   NULL|             NULL|                     246|              NULL|          NULL|  664|      NULL| NULL|  NULL|    NULL|\n",
            "| 2006|        282|   NULL|    152|   NULL|  NULL|               NULL|     NULL|   NULL|        2|      1|      NULL|   NULL|      1|        23|    NULL|      1|   NULL|  NULL| NULL|     1|   NULL|                 1|    NULL|     3|  NULL|    NULL|        NULL|      5|    NULL|    NULL|     2|                       1|  11|    1| NULL|      43|   NULL|      NULL|   NULL|NULL|  NULL|          NULL|          NULL|                               5|   NULL|    NULL|    NULL|              NULL|              NULL|      NULL|   NULL|    5|       NULL|             NULL|   NULL|   NULL|      11|            NULL|NULL|   NULL|    34|         NULL|            NULL| NULL|  NULL|      3|      4| NULL|    23|   NULL|      NULL|        4|  NULL|            1|     2|    1|    NULL|     NULL|   NULL|   NULL|  167|       10|         NULL|  14| 838|      1|    81|    4|          3|   NULL| NULL|     1|      NULL|    2|     6|  NULL|         3|NULL|  NULL|      8|      1|   NULL| NULL|     NULL|      NULL| NULL|        3|         1|  NULL|    NULL|       1|NULL| NULL|      NULL|      NULL|     NULL|     7|      1|      NULL|   NULL|      NULL|      2|   NULL|   83|       NULL|         NULL|        NULL|       NULL|     NULL| NULL|     37|       NULL|       NULL|     1|     164|  NULL|            NULL|    NULL|                          NULL|   1|         58|  NULL|    NULL| NULL|                 NULL|    NULL|   NULL|    56|  NULL|           3|   NULL|  NULL|                2|      NULL|        NULL|     NULL|           NULL|    NULL|           NULL|     10|        NULL|          1|       NULL|         NULL|       NULL|        NULL|   23|      217|               NULL|     NULL|   24|    NULL|        1|     1|       NULL|    1|  NULL|      NULL|    NULL|     202|NULL|               NULL|   NULL|    43|        NULL|  NULL|   NULL|                NULL|             6|            6|   NULL|      NULL|   NULL|        NULL|     NULL|   NULL|             NULL|                      35|              NULL|          NULL|    5|      NULL| NULL|  NULL|       1|\n",
            "| 1978|       NULL|   NULL|      1|   NULL|     2|               NULL|       25|   NULL|        2|      1|      NULL|   NULL|   NULL|      NULL|    NULL|   NULL|      8|  NULL| NULL|  NULL|      3|              NULL|    NULL|     5|  NULL|    NULL|        NULL|   NULL|       1|    NULL|  NULL|                    NULL|NULL|    8| NULL|     158|   NULL|         2|   NULL|NULL|     2|          NULL|          NULL|                            NULL|      1|    NULL|    NULL|                 1|                 1|      NULL|     11|    2|         91|             NULL|   NULL|   NULL|       2|            NULL|NULL|   NULL|    59|         NULL|            NULL| NULL|  NULL|   NULL|   NULL| NULL|    39|   NULL|      NULL|       29|  NULL|         NULL|     1| NULL|    NULL|     NULL|   NULL|   NULL| NULL|        2|         NULL|  27|NULL|      3|    23|  277|       NULL|   NULL|   35|  NULL|      NULL|    1|  NULL|     1|      NULL|NULL|  NULL|     12|   NULL|   NULL| NULL|     NULL|      NULL| NULL|     NULL|      NULL|  NULL|    NULL|    NULL|NULL| NULL|      NULL|      NULL|     NULL|    30|   NULL|      NULL|      1|         2|   NULL|      8| NULL|          3|         NULL|        NULL|       NULL|       76| NULL|   NULL|       NULL|          2|  NULL|       2|  NULL|            NULL|    NULL|                          NULL|   4|         36|  NULL|       4| NULL|                 NULL|      19|   NULL|  NULL|  NULL|        NULL|   NULL|  NULL|             NULL|      NULL|        NULL|     NULL|           NULL|    NULL|           NULL|   NULL|           9|       NULL|       NULL|         NULL|       NULL|           1|  209|     NULL|               NULL|     NULL| NULL|    NULL|     NULL|     1|          3|    1|  NULL|      NULL|    NULL|       5|NULL|               NULL|   NULL|    52|        NULL|  NULL|   NULL|                   1|           100|           87|   NULL|      NULL|   NULL|        NULL|        7|   NULL|             NULL|                       4|                19|             1| NULL|      NULL| NULL|     3|    NULL|\n",
            "| 2013|       1443|      1|     22|   NULL|  NULL|               NULL|        2|      1|        1|      1|      NULL|      1|     52|       139|    NULL|   NULL|   NULL|     1| NULL|  NULL|   NULL|                 1|    NULL|     3|  NULL|       3|           1|      2|       2|       3|     4|                      20|NULL|    5|   12|     149|   NULL|      NULL|      2|NULL|     9|             1|          NULL|                              22|      1|    NULL|    NULL|                 1|              NULL|      NULL|      2|  321|       NULL|             NULL|   NULL|   NULL|       5|            NULL|NULL|   NULL|    18|         NULL|            NULL| NULL|  NULL|      2|   NULL| NULL|    54|   NULL|      NULL|        6|     2|         NULL|  NULL| NULL|       2|     NULL|   NULL|   NULL|  694|       32|         NULL|  11|2852|     27|    37|    7|          4|   NULL|    1|     1|         4|   80|     6|  NULL|      NULL|NULL|  NULL|    121|   NULL|   NULL|  291|     NULL|      NULL| NULL|     NULL|         2|  NULL|      13|       3|  58| NULL|      NULL|      NULL|     NULL|     8|   NULL|         2|   NULL|        18|     18|   NULL|  104|       NULL|         NULL|        NULL|       NULL|     NULL|    4|    346|       NULL|       NULL|  NULL|    2215|  NULL|            NULL|      10|                          NULL|  10|        651|  NULL|    NULL| NULL|                    1|    NULL|   NULL|   144|     4|           6|      3|  NULL|             NULL|      NULL|        NULL|     NULL|           NULL|    NULL|           NULL|    342|          13|       NULL|         13|         NULL|       NULL|        NULL|    5|       14|               NULL|     NULL|   46|    NULL|     NULL|  NULL|          2|  285|     2|      NULL|       7|     472|NULL|                  3|     29|    42|        NULL|  NULL|      5|                   1|           137|           20|   NULL|      NULL|   NULL|        NULL|        1|   NULL|             NULL|                      64|              NULL|          NULL|  425|      NULL| NULL|  NULL|       3|\n",
            "| 1997|          1|     41|    344|   NULL|     7|               NULL|       11|   NULL|        4|      1|         1|      2|     11|        17|    NULL|      2|      2|  NULL| NULL|  NULL|      4|                42|    NULL|    39|  NULL|       3|        NULL|     79|      18|    NULL|     2|                    NULL|   1|    6|   18|     598|      3|         1|      8|  14|  NULL|             4|          NULL|                               1|   NULL|       1|       1|                12|              NULL|      NULL|      4|   22|          2|             NULL|   NULL|   NULL|       6|            NULL|NULL|   NULL|   130|            2|            NULL|    1|  NULL|      6|     12|    1|    21|   NULL|      NULL|       26|  NULL|         NULL|     1|   16|      22|     NULL|     17|   NULL|  193|       27|         NULL|NULL|  21|      4|    13|    8|          1|      8|    5|     3|         2|   17|  NULL|     2|      NULL|NULL|     2|     46|   NULL|   NULL| NULL|        1|      NULL|   16|        2|         1|  NULL|    NULL|    NULL|   3|    1|      NULL|      NULL|     NULL|    95|      1|      NULL|   NULL|      NULL|     35|   NULL|    9|          1|         NULL|        NULL|          1|        7|    3|     20|       NULL|       NULL|  NULL|     206|     6|               2|       6|                          NULL|  58|         57|     3|    NULL| NULL|                    2|    NULL|   NULL|    77|    33|        NULL|     26|  NULL|             NULL|      NULL|           3|     NULL|              4|       1|           NULL|     19|          17|       NULL|       NULL|         NULL|       NULL|        NULL|   86|       64|               NULL|     NULL|    3|       2|        1|     4|          1|    1|     1|        40|       1|      20|NULL|               NULL|   NULL|    44|        NULL|    24|      2|                NULL|            78|           40|      2|      NULL|   NULL|        NULL|       41|      2|             NULL|                      22|              NULL|          NULL|   19|        38|    5|  NULL|    NULL|\n",
            "| 1988|         11|   NULL|   NULL|   NULL|    12|               NULL|       33|   NULL|        3|      1|      NULL|   NULL|   NULL|        36|    NULL|   NULL|      5|  NULL| NULL|  NULL|     11|              NULL|       3|     2|  NULL|    NULL|        NULL|   NULL|    NULL|    NULL|  NULL|                    NULL|NULL|  185| NULL|     427|   NULL|         2|   NULL|NULL|     5|          NULL|          NULL|                            NULL|      1|       2|    NULL|                 2|                 4|      NULL|      9|    9|        367|             NULL|   NULL|   NULL|       2|            NULL|NULL|   NULL|    54|         NULL|            NULL| NULL|  NULL|   NULL|   NULL| NULL|    38|   NULL|         4|       29|  NULL|         NULL|  NULL|    6|      21|     NULL|   NULL|   NULL|  358|     NULL|         NULL|   6|   4|   NULL|    35|   29|       NULL|   NULL|   16|     1|      NULL| NULL|  NULL|     4|      NULL|NULL|  NULL|    125|      1|   NULL| NULL|     NULL|      NULL| NULL|     NULL|      NULL|  NULL|       4|       1|NULL| NULL|         1|      NULL|        1|     3|   NULL|      NULL|   NULL|        16|     23|     17| NULL|          4|            9|        NULL|       NULL|       62| NULL|      2|       NULL|          1|  NULL|      44|     1|            NULL|    NULL|                          NULL| 355|        210|  NULL|       2| NULL|                 NULL|    NULL|   NULL|  NULL|  NULL|           1|      3|  NULL|             NULL|      NULL|        NULL|     NULL|           NULL|    NULL|           NULL|      2|         245|          8|       NULL|         NULL|       NULL|        NULL|  151|      350|               NULL|     NULL|   10|       9|     NULL|  NULL|          4| NULL|  NULL|      NULL|    NULL|       5|NULL|               NULL|   NULL|    42|        NULL|    15|   NULL|                NULL|           181|           27|   NULL|      NULL|   NULL|        NULL|       10|   NULL|             NULL|                      18|                14|          NULL| NULL|      NULL|    1|     5|       1|\n",
            "| 1994|          9|      2|    227|   NULL|     9|               NULL|       14|      4|        9|      5|        11|   NULL|      1|        68|    NULL|      1|      5|  NULL|    3|  NULL|      8|                 9|    NULL|    19|  NULL|       2|        NULL|     16|      39|       6|     4|                       1|   1|   15|   13|     201|      1|         1|      4|   9|     6|             1|          NULL|                            NULL|   NULL|       2|    NULL|                 7|              NULL|      NULL|      6|  143|         21|             NULL|   NULL|      6|       4|            NULL|NULL|      1|    97|         NULL|            NULL|    1|     1|     18|     79|    4|    42|   NULL|      NULL|       84|     2|         NULL|  NULL|   27|       6|        4|      2|   NULL|  107|        5|         NULL|  43|  18|     10|    55|   18|          2|      2|    9|     6|         1|    5|  NULL|     2|      NULL|   1|     2|     67|      3|      3| NULL|     NULL|         3| NULL|        1|      NULL|  NULL|    NULL|    NULL|  13| NULL|      NULL|      NULL|     NULL|    42|      1|      NULL|      2|         3|      8|      1|    3|          3|         NULL|        NULL|          1|       19|    8|      8|          1|       NULL|     2|     154|     3|               3|       2|                          NULL|  91|         72|     4|       1| NULL|                    8|    NULL|   NULL|    47|    33|           2|      2|  NULL|             NULL|      NULL|          22|        1|              1|       1|           NULL|     57|         174|          2|       NULL|         NULL|       NULL|        NULL|   55|       35|               NULL|     NULL|    5|       1|     NULL|     1|       NULL| NULL|     5|        31|       1|      24|  13|                  1|      1|   300|        NULL|    13|     10|                NULL|           256|           55|      4|      NULL|   NULL|        NULL|       12|      1|                1|                     165|              NULL|          NULL|   19|         1|    6|  NULL|       1|\n",
            "| 2014|       1824|      2|     13|   NULL|  NULL|               NULL|        1|   NULL|        8|   NULL|         3|   NULL|     42|       130|    NULL|   NULL|      2|  NULL| NULL|     1|   NULL|                 3|    NULL|     3|  NULL|       1|        NULL|      5|    NULL|      68|     3|                      94|   1|   17|   37|     231|   NULL|      NULL|   NULL|NULL|     5|             5|          NULL|                             110|   NULL|       1|    NULL|                 1|              NULL|      NULL|   NULL|  354|       NULL|             NULL|   NULL|   NULL|       2|            NULL|NULL|   NULL|    14|         NULL|            NULL| NULL|  NULL|      2|     13|    1|    26|   NULL|      NULL|     NULL|  NULL|         NULL|  NULL| NULL|       1|     NULL|      1|      1|  860|       35|         NULL|   9|3933|     33|   293|    7|          1|      1|    5|     3|      NULL|  115|     4|  NULL|         2|NULL|  NULL|    204|   NULL|      1|  728|     NULL|      NULL| NULL|        3|         1|  NULL|      12|       9|  69|    1|      NULL|      NULL|     NULL|     5|   NULL|      NULL|   NULL|        22|     15|   NULL|    7|          1|         NULL|        NULL|          1|        2|    5|    714|       NULL|       NULL|  NULL|    2151|  NULL|            NULL|      15|                          NULL|  12|        597|  NULL|    NULL| NULL|                 NULL|    NULL|   NULL|    48|     2|          14|      2|  NULL|             NULL|      NULL|        NULL|     NULL|           NULL|    NULL|           NULL|    872|          20|       NULL|         40|         NULL|       NULL|        NULL|    4|       16|               NULL|     NULL|  157|    NULL|     NULL|     5|       NULL|  331|     1|         1|      11|     423|NULL|               NULL|     23|    94|           1|     6|    895|                   2|           103|           29|   NULL|      NULL|   NULL|        NULL|        4|   NULL|             NULL|                     133|              NULL|          NULL|  763|      NULL| NULL|  NULL|       1|\n",
            "| 1973|          1|   NULL|   NULL|   NULL|  NULL|               NULL|       60|   NULL|     NULL|      2|      NULL|   NULL|   NULL|      NULL|    NULL|   NULL|      1|  NULL| NULL|  NULL|   NULL|              NULL|    NULL|     2|  NULL|    NULL|        NULL|   NULL|    NULL|    NULL|  NULL|                    NULL|NULL|    7| NULL|       6|   NULL|      NULL|   NULL|NULL|     3|          NULL|          NULL|                            NULL|   NULL|    NULL|    NULL|                 3|              NULL|      NULL|      1| NULL|          1|             NULL|   NULL|   NULL|       1|            NULL|NULL|   NULL|    14|         NULL|            NULL| NULL|  NULL|   NULL|   NULL| NULL|    11|   NULL|      NULL|     NULL|  NULL|         NULL|  NULL|    1|       1|     NULL|   NULL|   NULL| NULL|     NULL|         NULL|   4|NULL|      3|     1|   15|       NULL|   NULL|    2|     1|      NULL| NULL|  NULL|  NULL|      NULL|NULL|  NULL|     11|   NULL|   NULL| NULL|     NULL|      NULL| NULL|     NULL|      NULL|  NULL|       1|    NULL|NULL| NULL|      NULL|      NULL|     NULL|     6|   NULL|      NULL|      2|      NULL|      1|   NULL| NULL|          1|         NULL|        NULL|          1|     NULL| NULL|   NULL|       NULL|       NULL|  NULL|    NULL|  NULL|            NULL|    NULL|                          NULL|   3|       NULL|  NULL|       1| NULL|                 NULL|    NULL|   NULL|  NULL|  NULL|        NULL|   NULL|  NULL|             NULL|      NULL|        NULL|     NULL|           NULL|    NULL|           NULL|   NULL|        NULL|       NULL|       NULL|         NULL|       NULL|        NULL|   21|     NULL|               NULL|     NULL|    1|    NULL|     NULL|  NULL|          2| NULL|  NULL|      NULL|    NULL|    NULL|NULL|               NULL|   NULL|  NULL|        NULL|  NULL|   NULL|                NULL|           189|           58|   NULL|      NULL|   NULL|        NULL|        4|   NULL|             NULL|                    NULL|                27|          NULL| NULL|         1|    1|     1|    NULL|\n",
            "| 1979|          3|   NULL|      1|   NULL|     3|               NULL|       16|   NULL|        2|      5|      NULL|   NULL|      1|         1|    NULL|   NULL|      8|  NULL| NULL|  NULL|     14|              NULL|    NULL|     6|  NULL|    NULL|        NULL|   NULL|    NULL|    NULL|  NULL|                    NULL|NULL|   49| NULL|     140|   NULL|         2|   NULL|NULL|     5|          NULL|          NULL|                            NULL|      3|       1|    NULL|                 2|              NULL|      NULL|      2|    1|        326|             NULL|   NULL|   NULL|       4|            NULL|NULL|   NULL|   212|         NULL|            NULL|    1|  NULL|   NULL|   NULL| NULL|     9|   NULL|      NULL|       60|  NULL|         NULL|     2| NULL|       6|     NULL|   NULL|   NULL|   20|     NULL|         NULL|  82|   2|      8|   130|  209|       NULL|      2|   16|  NULL|      NULL| NULL|  NULL|  NULL|      NULL|NULL|  NULL|     38|      2|   NULL|    3|     NULL|      NULL| NULL|     NULL|      NULL|  NULL|       1|    NULL|NULL| NULL|      NULL|      NULL|     NULL|    10|   NULL|      NULL|      2|         5|     19|     31| NULL|          3|         NULL|        NULL|       NULL|      206| NULL|   NULL|       NULL|       NULL|     1|       7|     4|            NULL|    NULL|                          NULL|   3|         50|     1|      15| NULL|                 NULL|      51|   NULL|  NULL|  NULL|           1|   NULL|  NULL|             NULL|      NULL|        NULL|     NULL|           NULL|    NULL|           NULL|   NULL|          16|       NULL|       NULL|         NULL|       NULL|        NULL|  279|        3|               NULL|     NULL| NULL|    NULL|     NULL|     1|          6|   28|  NULL|      NULL|       1|      16|NULL|                  1|      1|   141|        NULL|     8|   NULL|                   2|           239|           69|   NULL|      NULL|   NULL|        NULL|        4|   NULL|             NULL|                      22|                17|          NULL| NULL|      NULL| NULL|     1|    NULL|\n",
            "| 1971|       NULL|   NULL|   NULL|   NULL|  NULL|               NULL|        7|   NULL|        1|   NULL|      NULL|   NULL|   NULL|      NULL|    NULL|   NULL|   NULL|  NULL| NULL|  NULL|      2|              NULL|    NULL|     3|  NULL|    NULL|        NULL|   NULL|       2|    NULL|  NULL|                    NULL|NULL| NULL| NULL|    NULL|   NULL|         1|   NULL|NULL|  NULL|          NULL|          NULL|                            NULL|   NULL|    NULL|    NULL|                 3|                 4|      NULL|   NULL|    1|       NULL|             NULL|   NULL|   NULL|       1|            NULL|NULL|   NULL|  NULL|         NULL|            NULL| NULL|  NULL|   NULL|   NULL| NULL|     1|   NULL|      NULL|        1|  NULL|         NULL|  NULL| NULL|    NULL|     NULL|   NULL|   NULL| NULL|     NULL|         NULL|  11|NULL|      1|     1|    3|       NULL|   NULL| NULL|     5|      NULL| NULL|  NULL|  NULL|      NULL|NULL|  NULL|      1|   NULL|   NULL| NULL|     NULL|      NULL| NULL|     NULL|      NULL|  NULL|    NULL|    NULL|NULL| NULL|      NULL|      NULL|     NULL|  NULL|   NULL|      NULL|   NULL|      NULL|   NULL|   NULL| NULL|          1|         NULL|        NULL|       NULL|     NULL| NULL|   NULL|       NULL|       NULL|  NULL|    NULL|  NULL|            NULL|    NULL|                          NULL|NULL|          4|     1|    NULL| NULL|                 NULL|    NULL|   NULL|  NULL|  NULL|        NULL|   NULL|  NULL|             NULL|      NULL|        NULL|     NULL|           NULL|    NULL|           NULL|   NULL|        NULL|       NULL|       NULL|         NULL|          1|        NULL|   22|     NULL|               NULL|     NULL| NULL|    NULL|     NULL|     2|          1| NULL|     1|      NULL|    NULL|    NULL|NULL|               NULL|   NULL|    35|        NULL|  NULL|   NULL|                NULL|            81|          247|      8|      NULL|   NULL|        NULL|        4|   NULL|             NULL|                    NULL|                13|          NULL| NULL|      NULL| NULL|     1|    NULL|\n",
            "| 2004|         88|   NULL|     67|   NULL|  NULL|               NULL|     NULL|   NULL|     NULL|   NULL|      NULL|   NULL|   NULL|        11|    NULL|   NULL|   NULL|  NULL| NULL|  NULL|   NULL|              NULL|    NULL|  NULL|  NULL|    NULL|        NULL|      1|    NULL|    NULL|     2|                    NULL|NULL| NULL|    2|      37|   NULL|      NULL|   NULL|NULL|     1|          NULL|          NULL|                               5|   NULL|       1|    NULL|              NULL|              NULL|      NULL|      2|    3|       NULL|             NULL|   NULL|   NULL|       2|            NULL|NULL|   NULL|    11|         NULL|            NULL| NULL|  NULL|      3|      3| NULL|     4|   NULL|      NULL|        2|  NULL|         NULL|  NULL|    2|       1|     NULL|   NULL|   NULL|  108|       17|         NULL|NULL| 323|   NULL|    19|    3|          1|   NULL| NULL|  NULL|      NULL| NULL|     1|  NULL|      NULL|NULL|  NULL|      1|   NULL|   NULL| NULL|     NULL|      NULL| NULL|     NULL|      NULL|  NULL|    NULL|    NULL|NULL| NULL|      NULL|         1|     NULL|     1|   NULL|      NULL|   NULL|      NULL|      2|   NULL|   62|          1|         NULL|        NULL|       NULL|     NULL| NULL|      6|       NULL|       NULL|  NULL|      67|  NULL|            NULL|    NULL|                          NULL|   3|         32|  NULL|    NULL| NULL|                 NULL|    NULL|   NULL|    44|  NULL|          17|   NULL|  NULL|                1|      NULL|        NULL|     NULL|           NULL|    NULL|           NULL|      1|        NULL|       NULL|       NULL|         NULL|       NULL|        NULL|   31|       33|               NULL|     NULL|    5|    NULL|     NULL|  NULL|       NULL|    1|     2|      NULL|       1|      44|NULL|               NULL|   NULL|    27|        NULL|    10|   NULL|                NULL|             5|            9|   NULL|         5|   NULL|        NULL|     NULL|   NULL|             NULL|                      34|              NULL|          NULL| NULL|      NULL| NULL|  NULL|    NULL|\n",
            "| 1991|         30|      1|     30|   NULL|    16|               NULL|       27|      1|        4|      3|         3|   NULL|      1|        42|    NULL|   NULL|      6|     3| NULL|  NULL|     28|              NULL|    NULL|    24|  NULL|       3|           2|      7|       3|       4|  NULL|                       4|   2|  127|    1|     420|   NULL|         2|     26|   1|    11|          NULL|             1|                            NULL|      1|       1|    NULL|                 8|              NULL|      NULL|     17|   10|        500|             NULL|   NULL|   NULL|       5|            NULL|   3|   NULL|   137|         NULL|            NULL| NULL|  NULL|      3|     65| NULL|    57|   NULL|         1|       77|  NULL|         NULL|  NULL|   17|      21|        1|      3|   NULL|  339|        7|         NULL|   9|   3|     16|    64|   31|       NULL|      1|   19|    11|      NULL|    5|  NULL|     5|      NULL|NULL|  NULL|     91|   NULL|      1| NULL|        1|      NULL| NULL|     NULL|         1|  NULL|       3|    NULL|  12| NULL|         1|      NULL|     NULL|    10|      1|      NULL|      3|        35|     22|      1|    1|          8|         NULL|        NULL|          1|       80|    6|      3|       NULL|       NULL|     2|     150|    16|               2|    NULL|                          NULL| 658|        162|  NULL|    NULL| NULL|                 NULL|    NULL|      1|  NULL|     3|           2|      4|  NULL|             NULL|      NULL|           9|        1|           NULL|    NULL|           NULL|      8|         127|          6|       NULL|         NULL|       NULL|          34|   89|      115|               NULL|     NULL|    3|       1|        1|     6|          2| NULL|     2|      NULL|    NULL|       8|   2|                  1|      2|   293|        NULL|     2|      2|                NULL|           262|           30|      3|      NULL|   NULL|        NULL|       17|   NULL|             NULL|                      83|              NULL|          NULL|    5|        11|    6|  NULL|       1|\n",
            "| 1982|       NULL|   NULL|   NULL|   NULL|     2|               NULL|        9|   NULL|        2|     11|      NULL|   NULL|   NULL|         1|    NULL|   NULL|      1|  NULL| NULL|  NULL|     27|              NULL|    NULL|     4|  NULL|       2|        NULL|   NULL|    NULL|    NULL|     5|                    NULL|NULL|   21| NULL|     222|   NULL|         6|   NULL|NULL|     1|          NULL|          NULL|                            NULL|   NULL|    NULL|    NULL|                 2|                 1|      NULL|      3|    1|        537|             NULL|   NULL|   NULL|    NULL|            NULL|NULL|   NULL|    62|         NULL|            NULL| NULL|  NULL|   NULL|   NULL| NULL|    19|   NULL|      NULL|      354|  NULL|         NULL|  NULL| NULL|      34|     NULL|   NULL|   NULL|   13|     NULL|         NULL|  26|   5|      4|    71|   23|       NULL|   NULL|    2|     1|      NULL| NULL|  NULL|     1|      NULL|NULL|  NULL|    120|      2|   NULL| NULL|     NULL|      NULL| NULL|     NULL|      NULL|  NULL|    NULL|    NULL|NULL| NULL|      NULL|      NULL|     NULL|     3|   NULL|      NULL|   NULL|         9|      2|      2| NULL|          2|         NULL|        NULL|       NULL|       63| NULL|   NULL|       NULL|       NULL|  NULL|       4|  NULL|            NULL|    NULL|                             1| 350|         38|  NULL|       3|    1|                 NULL|    NULL|   NULL|  NULL|  NULL|        NULL|   NULL|  NULL|             NULL|      NULL|        NULL|     NULL|           NULL|    NULL|           NULL|   NULL|          26|          1|       NULL|         NULL|       NULL|        NULL|  146|        2|               NULL|     NULL|    3|       1|        1|  NULL|          6|   20|  NULL|      NULL|       1|       3|NULL|               NULL|   NULL|     5|        NULL|     1|   NULL|                NULL|            95|           78|   NULL|      NULL|   NULL|        NULL|        2|   NULL|             NULL|                      39|                29|          NULL| NULL|      NULL| NULL|  NULL|      12|\n",
            "+-----+-----------+-------+-------+-------+------+-------------------+---------+-------+---------+-------+----------+-------+-------+----------+--------+-------+-------+------+-----+------+-------+------------------+--------+------+------+--------+------------+-------+--------+--------+------+------------------------+----+-----+-----+--------+-------+----------+-------+----+------+--------------+--------------+--------------------------------+-------+--------+--------+------------------+------------------+----------+-------+-----+-----------+-----------------+-------+-------+--------+----------------+----+-------+------+-------------+----------------+-----+------+-------+-------+-----+------+-------+----------+---------+------+-------------+------+-----+--------+---------+-------+-------+-----+---------+-------------+----+----+-------+------+-----+-----------+-------+-----+------+----------+-----+------+------+----------+----+------+-------+-------+-------+-----+---------+----------+-----+---------+----------+------+--------+--------+----+-----+----------+----------+---------+------+-------+----------+-------+----------+-------+-------+-----+-----------+-------------+------------+-----------+---------+-----+-------+-----------+-----------+------+--------+------+----------------+--------+------------------------------+----+-----------+------+--------+-----+---------------------+--------+-------+------+------+------------+-------+------+-----------------+----------+------------+---------+---------------+--------+---------------+-------+------------+-----------+-----------+-------------+-----------+------------+-----+---------+-------------------+---------+-----+--------+---------+------+-----------+-----+------+----------+--------+--------+----+-------------------+-------+------+------------+------+-------+--------------------+--------------+-------------+-------+----------+-------+------------+---------+-------+-----------------+------------------------+------------------+--------------+-----+----------+-----+------+--------+\n",
            "only showing top 20 rows\n",
            "\n"
          ]
        }
      ]
    },
    {
      "cell_type": "markdown",
      "source": [
        "**Data Cleaning**\n",
        "\n",
        "Cleaning the dataset involves handling missing values and filtering irrelevant data:"
      ],
      "metadata": {
        "id": "gQdCN1vtdGSm"
      }
    },
    {
      "cell_type": "code",
      "source": [
        "# Drop rows with missing values in critical columns\n",
        "df_clean = spark_df.dropna(subset=[\"eventid\", \"iyear\", \"imonth\", \"iday\", \"country_txt\", \"region_txt\", \"attacktype1_txt\"])\n",
        "\n",
        "# Filter data for specific analysis, e.g., only incidents post-2000\n",
        "df_clean = df_clean.filter(df_clean[\"iyear\"] > 2000)\n"
      ],
      "metadata": {
        "id": "lO3xMDsrtUtf"
      },
      "execution_count": 6,
      "outputs": []
    },
    {
      "cell_type": "markdown",
      "source": [
        "**Basic Analysis**"
      ],
      "metadata": {
        "id": "UIZahxipdMSL"
      }
    },
    {
      "cell_type": "code",
      "source": [
        "# Count of Terrorist Attacks by Year\n",
        "# Group by year and count the number of attacks\n",
        "attacks_by_year = df_clean.groupBy(\"iyear\").count().orderBy(\"iyear\")\n",
        "attacks_by_year.show()\n"
      ],
      "metadata": {
        "colab": {
          "base_uri": "https://localhost:8080/"
        },
        "id": "jrLyUI5Vc1ys",
        "outputId": "ba400d74-91ff-4ddc-a320-575659dc77f8"
      },
      "execution_count": 7,
      "outputs": [
        {
          "output_type": "stream",
          "name": "stdout",
          "text": [
            "+-----+-----+\n",
            "|iyear|count|\n",
            "+-----+-----+\n",
            "| 2001| 1903|\n",
            "| 2002| 1333|\n",
            "| 2003| 1278|\n",
            "| 2004| 1166|\n",
            "| 2005| 2017|\n",
            "| 2006| 2757|\n",
            "| 2007| 3241|\n",
            "| 2008| 4803|\n",
            "| 2009| 4720|\n",
            "| 2010| 4824|\n",
            "| 2011| 5076|\n",
            "| 2012| 8520|\n",
            "| 2013|12036|\n",
            "| 2014|16902|\n",
            "| 2015|14963|\n",
            "| 2016|13585|\n",
            "| 2017|10898|\n",
            "+-----+-----+\n",
            "\n"
          ]
        }
      ]
    },
    {
      "cell_type": "code",
      "source": [
        "# Most Common Attack Types\n",
        "# Group by attack type and count the occurrences\n",
        "attack_types = df_clean.groupBy(\"attacktype1_txt\").count().orderBy(\"count\", ascending=False)\n",
        "attack_types.show()\n"
      ],
      "metadata": {
        "colab": {
          "base_uri": "https://localhost:8080/"
        },
        "id": "3cpwJlOwdSbt",
        "outputId": "8a0b459c-5f44-4d71-d440-20eb3f339114"
      },
      "execution_count": 8,
      "outputs": [
        {
          "output_type": "stream",
          "name": "stdout",
          "text": [
            "+--------------------+-----+\n",
            "|     attacktype1_txt|count|\n",
            "+--------------------+-----+\n",
            "|   Bombing/Explosion|57877|\n",
            "|       Armed Assault|25843|\n",
            "|Hostage Taking (K...| 7869|\n",
            "|       Assassination| 6821|\n",
            "|Facility/Infrastr...| 5486|\n",
            "|             Unknown| 4555|\n",
            "|     Unarmed Assault|  572|\n",
            "|Hostage Taking (B...|  358|\n",
            "|           Hijacking|  305|\n",
            "|                   0|  116|\n",
            "|                   1|   74|\n",
            "|                   3|   45|\n",
            "|                   2|   37|\n",
            "|                   7|   35|\n",
            "|                   6|   14|\n",
            "|                   8|    5|\n",
            "|                   9|    3|\n",
            "|                   5|    2|\n",
            "| the Red Hand Def...|    1|\n",
            "|          the choice|    1|\n",
            "+--------------------+-----+\n",
            "only showing top 20 rows\n",
            "\n"
          ]
        }
      ]
    },
    {
      "cell_type": "code",
      "source": [],
      "metadata": {
        "id": "dMUS_Rrf3oFa"
      },
      "execution_count": null,
      "outputs": []
    }
  ]
}